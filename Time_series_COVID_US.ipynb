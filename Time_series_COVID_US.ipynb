{
 "cells": [
  {
   "cell_type": "code",
   "execution_count": 341,
   "metadata": {},
   "outputs": [],
   "source": [
    "import pandas as pd \n",
    "from matplotlib import pyplot as plt \n",
    "import seaborn as sns\n",
    "sns.set()\n",
    "\n",
    "import numpy as np \n",
    "import matplotlib \n",
    "\n",
    "np.random.seed(42)\n",
    "%matplotlib inline"
   ]
  },
  {
   "cell_type": "markdown",
   "metadata": {},
   "source": [
    "# Time Series on Confirmed Cases in the US"
   ]
  },
  {
   "cell_type": "code",
   "execution_count": 342,
   "metadata": {},
   "outputs": [],
   "source": [
    "confirmed = pd.read_csv('data/time_series_covid19_confirmed_US.csv')"
   ]
  },
  {
   "cell_type": "code",
   "execution_count": 343,
   "metadata": {
    "scrolled": false
   },
   "outputs": [
    {
     "data": {
      "text/html": [
       "<div>\n",
       "<style scoped>\n",
       "    .dataframe tbody tr th:only-of-type {\n",
       "        vertical-align: middle;\n",
       "    }\n",
       "\n",
       "    .dataframe tbody tr th {\n",
       "        vertical-align: top;\n",
       "    }\n",
       "\n",
       "    .dataframe thead th {\n",
       "        text-align: right;\n",
       "    }\n",
       "</style>\n",
       "<table border=\"1\" class=\"dataframe\">\n",
       "  <thead>\n",
       "    <tr style=\"text-align: right;\">\n",
       "      <th></th>\n",
       "      <th>UID</th>\n",
       "      <th>iso2</th>\n",
       "      <th>iso3</th>\n",
       "      <th>code3</th>\n",
       "      <th>FIPS</th>\n",
       "      <th>Admin2</th>\n",
       "      <th>Province_State</th>\n",
       "      <th>Country_Region</th>\n",
       "      <th>Lat</th>\n",
       "      <th>Long_</th>\n",
       "      <th>...</th>\n",
       "      <th>6/24/20</th>\n",
       "      <th>6/25/20</th>\n",
       "      <th>6/26/20</th>\n",
       "      <th>6/27/20</th>\n",
       "      <th>6/28/20</th>\n",
       "      <th>6/29/20</th>\n",
       "      <th>6/30/20</th>\n",
       "      <th>7/1/20</th>\n",
       "      <th>7/2/20</th>\n",
       "      <th>7/3/20</th>\n",
       "    </tr>\n",
       "  </thead>\n",
       "  <tbody>\n",
       "    <tr>\n",
       "      <td>0</td>\n",
       "      <td>16</td>\n",
       "      <td>AS</td>\n",
       "      <td>ASM</td>\n",
       "      <td>16</td>\n",
       "      <td>60.0</td>\n",
       "      <td>NaN</td>\n",
       "      <td>American Samoa</td>\n",
       "      <td>US</td>\n",
       "      <td>-14.2710</td>\n",
       "      <td>-170.1320</td>\n",
       "      <td>...</td>\n",
       "      <td>0</td>\n",
       "      <td>0</td>\n",
       "      <td>0</td>\n",
       "      <td>0</td>\n",
       "      <td>0</td>\n",
       "      <td>0</td>\n",
       "      <td>0</td>\n",
       "      <td>0</td>\n",
       "      <td>0</td>\n",
       "      <td>0</td>\n",
       "    </tr>\n",
       "    <tr>\n",
       "      <td>1</td>\n",
       "      <td>316</td>\n",
       "      <td>GU</td>\n",
       "      <td>GUM</td>\n",
       "      <td>316</td>\n",
       "      <td>66.0</td>\n",
       "      <td>NaN</td>\n",
       "      <td>Guam</td>\n",
       "      <td>US</td>\n",
       "      <td>13.4443</td>\n",
       "      <td>144.7937</td>\n",
       "      <td>...</td>\n",
       "      <td>226</td>\n",
       "      <td>231</td>\n",
       "      <td>247</td>\n",
       "      <td>247</td>\n",
       "      <td>247</td>\n",
       "      <td>253</td>\n",
       "      <td>257</td>\n",
       "      <td>267</td>\n",
       "      <td>280</td>\n",
       "      <td>280</td>\n",
       "    </tr>\n",
       "    <tr>\n",
       "      <td>2</td>\n",
       "      <td>580</td>\n",
       "      <td>MP</td>\n",
       "      <td>MNP</td>\n",
       "      <td>580</td>\n",
       "      <td>69.0</td>\n",
       "      <td>NaN</td>\n",
       "      <td>Northern Mariana Islands</td>\n",
       "      <td>US</td>\n",
       "      <td>15.0979</td>\n",
       "      <td>145.6739</td>\n",
       "      <td>...</td>\n",
       "      <td>30</td>\n",
       "      <td>30</td>\n",
       "      <td>30</td>\n",
       "      <td>30</td>\n",
       "      <td>30</td>\n",
       "      <td>30</td>\n",
       "      <td>30</td>\n",
       "      <td>30</td>\n",
       "      <td>31</td>\n",
       "      <td>31</td>\n",
       "    </tr>\n",
       "    <tr>\n",
       "      <td>3</td>\n",
       "      <td>630</td>\n",
       "      <td>PR</td>\n",
       "      <td>PRI</td>\n",
       "      <td>630</td>\n",
       "      <td>72.0</td>\n",
       "      <td>NaN</td>\n",
       "      <td>Puerto Rico</td>\n",
       "      <td>US</td>\n",
       "      <td>18.2208</td>\n",
       "      <td>-66.5901</td>\n",
       "      <td>...</td>\n",
       "      <td>6820</td>\n",
       "      <td>6877</td>\n",
       "      <td>6922</td>\n",
       "      <td>7066</td>\n",
       "      <td>7189</td>\n",
       "      <td>7250</td>\n",
       "      <td>7465</td>\n",
       "      <td>7537</td>\n",
       "      <td>7608</td>\n",
       "      <td>7683</td>\n",
       "    </tr>\n",
       "    <tr>\n",
       "      <td>4</td>\n",
       "      <td>850</td>\n",
       "      <td>VI</td>\n",
       "      <td>VIR</td>\n",
       "      <td>850</td>\n",
       "      <td>78.0</td>\n",
       "      <td>NaN</td>\n",
       "      <td>Virgin Islands</td>\n",
       "      <td>US</td>\n",
       "      <td>18.3358</td>\n",
       "      <td>-64.8963</td>\n",
       "      <td>...</td>\n",
       "      <td>76</td>\n",
       "      <td>80</td>\n",
       "      <td>81</td>\n",
       "      <td>81</td>\n",
       "      <td>81</td>\n",
       "      <td>81</td>\n",
       "      <td>81</td>\n",
       "      <td>90</td>\n",
       "      <td>92</td>\n",
       "      <td>98</td>\n",
       "    </tr>\n",
       "  </tbody>\n",
       "</table>\n",
       "<p>5 rows × 175 columns</p>\n",
       "</div>"
      ],
      "text/plain": [
       "   UID iso2 iso3  code3  FIPS Admin2            Province_State Country_Region  \\\n",
       "0   16   AS  ASM     16  60.0    NaN            American Samoa             US   \n",
       "1  316   GU  GUM    316  66.0    NaN                      Guam             US   \n",
       "2  580   MP  MNP    580  69.0    NaN  Northern Mariana Islands             US   \n",
       "3  630   PR  PRI    630  72.0    NaN               Puerto Rico             US   \n",
       "4  850   VI  VIR    850  78.0    NaN            Virgin Islands             US   \n",
       "\n",
       "       Lat     Long_  ... 6/24/20  6/25/20  6/26/20  6/27/20  6/28/20  \\\n",
       "0 -14.2710 -170.1320  ...       0        0        0        0        0   \n",
       "1  13.4443  144.7937  ...     226      231      247      247      247   \n",
       "2  15.0979  145.6739  ...      30       30       30       30       30   \n",
       "3  18.2208  -66.5901  ...    6820     6877     6922     7066     7189   \n",
       "4  18.3358  -64.8963  ...      76       80       81       81       81   \n",
       "\n",
       "   6/29/20  6/30/20  7/1/20  7/2/20  7/3/20  \n",
       "0        0        0       0       0       0  \n",
       "1      253      257     267     280     280  \n",
       "2       30       30      30      31      31  \n",
       "3     7250     7465    7537    7608    7683  \n",
       "4       81       81      90      92      98  \n",
       "\n",
       "[5 rows x 175 columns]"
      ]
     },
     "execution_count": 343,
     "metadata": {},
     "output_type": "execute_result"
    }
   ],
   "source": [
    "confirmed.head()"
   ]
  },
  {
   "cell_type": "code",
   "execution_count": 344,
   "metadata": {},
   "outputs": [
    {
     "data": {
      "text/plain": [
       "(3261, 175)"
      ]
     },
     "execution_count": 344,
     "metadata": {},
     "output_type": "execute_result"
    }
   ],
   "source": [
    "confirmed.shape"
   ]
  },
  {
   "cell_type": "code",
   "execution_count": 345,
   "metadata": {
    "scrolled": false
   },
   "outputs": [
    {
     "data": {
      "text/plain": [
       "Index(['UID', 'iso2', 'iso3', 'code3', 'FIPS', 'Admin2', 'Province_State',\n",
       "       'Country_Region', 'Lat', 'Long_',\n",
       "       ...\n",
       "       '6/24/20', '6/25/20', '6/26/20', '6/27/20', '6/28/20', '6/29/20',\n",
       "       '6/30/20', '7/1/20', '7/2/20', '7/3/20'],\n",
       "      dtype='object', length=175)"
      ]
     },
     "execution_count": 345,
     "metadata": {},
     "output_type": "execute_result"
    }
   ],
   "source": [
    "confirmed.columns"
   ]
  },
  {
   "cell_type": "markdown",
   "metadata": {},
   "source": [
    "### Cleaning and reshaping the dataset to be used for time series"
   ]
  },
  {
   "cell_type": "code",
   "execution_count": 346,
   "metadata": {},
   "outputs": [],
   "source": [
    "#dropping columns, admin2 is for county names, but we are looking at states as a whole for now\n",
    "drops = ['UID','iso2','iso3','code3','FIPS','Country_Region','Lat','Long_','Admin2','Combined_Key']\n",
    "confirmed = confirmed.drop(drops, axis = 1)"
   ]
  },
  {
   "cell_type": "markdown",
   "metadata": {},
   "source": [
    "Notice how the dates are individual columns; Time series analysis and especially time series predictions would require the dates to be in a single column, so we must transpose the dataset"
   ]
  },
  {
   "cell_type": "code",
   "execution_count": 347,
   "metadata": {},
   "outputs": [
    {
     "data": {
      "text/html": [
       "<div>\n",
       "<style scoped>\n",
       "    .dataframe tbody tr th:only-of-type {\n",
       "        vertical-align: middle;\n",
       "    }\n",
       "\n",
       "    .dataframe tbody tr th {\n",
       "        vertical-align: top;\n",
       "    }\n",
       "\n",
       "    .dataframe thead th {\n",
       "        text-align: right;\n",
       "    }\n",
       "</style>\n",
       "<table border=\"1\" class=\"dataframe\">\n",
       "  <thead>\n",
       "    <tr style=\"text-align: right;\">\n",
       "      <th></th>\n",
       "      <th>Province_State</th>\n",
       "      <th>1/22/20</th>\n",
       "      <th>1/23/20</th>\n",
       "      <th>1/24/20</th>\n",
       "      <th>1/25/20</th>\n",
       "      <th>1/26/20</th>\n",
       "      <th>1/27/20</th>\n",
       "      <th>1/28/20</th>\n",
       "      <th>1/29/20</th>\n",
       "      <th>1/30/20</th>\n",
       "      <th>...</th>\n",
       "      <th>6/24/20</th>\n",
       "      <th>6/25/20</th>\n",
       "      <th>6/26/20</th>\n",
       "      <th>6/27/20</th>\n",
       "      <th>6/28/20</th>\n",
       "      <th>6/29/20</th>\n",
       "      <th>6/30/20</th>\n",
       "      <th>7/1/20</th>\n",
       "      <th>7/2/20</th>\n",
       "      <th>7/3/20</th>\n",
       "    </tr>\n",
       "  </thead>\n",
       "  <tbody>\n",
       "    <tr>\n",
       "      <td>0</td>\n",
       "      <td>American Samoa</td>\n",
       "      <td>0</td>\n",
       "      <td>0</td>\n",
       "      <td>0</td>\n",
       "      <td>0</td>\n",
       "      <td>0</td>\n",
       "      <td>0</td>\n",
       "      <td>0</td>\n",
       "      <td>0</td>\n",
       "      <td>0</td>\n",
       "      <td>...</td>\n",
       "      <td>0</td>\n",
       "      <td>0</td>\n",
       "      <td>0</td>\n",
       "      <td>0</td>\n",
       "      <td>0</td>\n",
       "      <td>0</td>\n",
       "      <td>0</td>\n",
       "      <td>0</td>\n",
       "      <td>0</td>\n",
       "      <td>0</td>\n",
       "    </tr>\n",
       "    <tr>\n",
       "      <td>1</td>\n",
       "      <td>Guam</td>\n",
       "      <td>0</td>\n",
       "      <td>0</td>\n",
       "      <td>0</td>\n",
       "      <td>0</td>\n",
       "      <td>0</td>\n",
       "      <td>0</td>\n",
       "      <td>0</td>\n",
       "      <td>0</td>\n",
       "      <td>0</td>\n",
       "      <td>...</td>\n",
       "      <td>226</td>\n",
       "      <td>231</td>\n",
       "      <td>247</td>\n",
       "      <td>247</td>\n",
       "      <td>247</td>\n",
       "      <td>253</td>\n",
       "      <td>257</td>\n",
       "      <td>267</td>\n",
       "      <td>280</td>\n",
       "      <td>280</td>\n",
       "    </tr>\n",
       "    <tr>\n",
       "      <td>2</td>\n",
       "      <td>Northern Mariana Islands</td>\n",
       "      <td>0</td>\n",
       "      <td>0</td>\n",
       "      <td>0</td>\n",
       "      <td>0</td>\n",
       "      <td>0</td>\n",
       "      <td>0</td>\n",
       "      <td>0</td>\n",
       "      <td>0</td>\n",
       "      <td>0</td>\n",
       "      <td>...</td>\n",
       "      <td>30</td>\n",
       "      <td>30</td>\n",
       "      <td>30</td>\n",
       "      <td>30</td>\n",
       "      <td>30</td>\n",
       "      <td>30</td>\n",
       "      <td>30</td>\n",
       "      <td>30</td>\n",
       "      <td>31</td>\n",
       "      <td>31</td>\n",
       "    </tr>\n",
       "    <tr>\n",
       "      <td>3</td>\n",
       "      <td>Puerto Rico</td>\n",
       "      <td>0</td>\n",
       "      <td>0</td>\n",
       "      <td>0</td>\n",
       "      <td>0</td>\n",
       "      <td>0</td>\n",
       "      <td>0</td>\n",
       "      <td>0</td>\n",
       "      <td>0</td>\n",
       "      <td>0</td>\n",
       "      <td>...</td>\n",
       "      <td>6820</td>\n",
       "      <td>6877</td>\n",
       "      <td>6922</td>\n",
       "      <td>7066</td>\n",
       "      <td>7189</td>\n",
       "      <td>7250</td>\n",
       "      <td>7465</td>\n",
       "      <td>7537</td>\n",
       "      <td>7608</td>\n",
       "      <td>7683</td>\n",
       "    </tr>\n",
       "    <tr>\n",
       "      <td>4</td>\n",
       "      <td>Virgin Islands</td>\n",
       "      <td>0</td>\n",
       "      <td>0</td>\n",
       "      <td>0</td>\n",
       "      <td>0</td>\n",
       "      <td>0</td>\n",
       "      <td>0</td>\n",
       "      <td>0</td>\n",
       "      <td>0</td>\n",
       "      <td>0</td>\n",
       "      <td>...</td>\n",
       "      <td>76</td>\n",
       "      <td>80</td>\n",
       "      <td>81</td>\n",
       "      <td>81</td>\n",
       "      <td>81</td>\n",
       "      <td>81</td>\n",
       "      <td>81</td>\n",
       "      <td>90</td>\n",
       "      <td>92</td>\n",
       "      <td>98</td>\n",
       "    </tr>\n",
       "  </tbody>\n",
       "</table>\n",
       "<p>5 rows × 165 columns</p>\n",
       "</div>"
      ],
      "text/plain": [
       "             Province_State  1/22/20  1/23/20  1/24/20  1/25/20  1/26/20  \\\n",
       "0            American Samoa        0        0        0        0        0   \n",
       "1                      Guam        0        0        0        0        0   \n",
       "2  Northern Mariana Islands        0        0        0        0        0   \n",
       "3               Puerto Rico        0        0        0        0        0   \n",
       "4            Virgin Islands        0        0        0        0        0   \n",
       "\n",
       "   1/27/20  1/28/20  1/29/20  1/30/20  ...  6/24/20  6/25/20  6/26/20  \\\n",
       "0        0        0        0        0  ...        0        0        0   \n",
       "1        0        0        0        0  ...      226      231      247   \n",
       "2        0        0        0        0  ...       30       30       30   \n",
       "3        0        0        0        0  ...     6820     6877     6922   \n",
       "4        0        0        0        0  ...       76       80       81   \n",
       "\n",
       "   6/27/20  6/28/20  6/29/20  6/30/20  7/1/20  7/2/20  7/3/20  \n",
       "0        0        0        0        0       0       0       0  \n",
       "1      247      247      253      257     267     280     280  \n",
       "2       30       30       30       30      30      31      31  \n",
       "3     7066     7189     7250     7465    7537    7608    7683  \n",
       "4       81       81       81       81      90      92      98  \n",
       "\n",
       "[5 rows x 165 columns]"
      ]
     },
     "execution_count": 347,
     "metadata": {},
     "output_type": "execute_result"
    }
   ],
   "source": [
    "confirmed.head()"
   ]
  },
  {
   "cell_type": "code",
   "execution_count": 348,
   "metadata": {},
   "outputs": [],
   "source": [
    "confirmed = confirmed.set_index('Province_State')"
   ]
  },
  {
   "cell_type": "code",
   "execution_count": 349,
   "metadata": {},
   "outputs": [],
   "source": [
    "#transposing the dataframe to swap columns and rows in order to fit the time series modelling requirements\n",
    "confirmed_dt = confirmed.T"
   ]
  },
  {
   "cell_type": "code",
   "execution_count": 350,
   "metadata": {},
   "outputs": [
    {
     "data": {
      "text/html": [
       "<div>\n",
       "<style scoped>\n",
       "    .dataframe tbody tr th:only-of-type {\n",
       "        vertical-align: middle;\n",
       "    }\n",
       "\n",
       "    .dataframe tbody tr th {\n",
       "        vertical-align: top;\n",
       "    }\n",
       "\n",
       "    .dataframe thead th {\n",
       "        text-align: right;\n",
       "    }\n",
       "</style>\n",
       "<table border=\"1\" class=\"dataframe\">\n",
       "  <thead>\n",
       "    <tr style=\"text-align: right;\">\n",
       "      <th>Province_State</th>\n",
       "      <th>American Samoa</th>\n",
       "      <th>Guam</th>\n",
       "      <th>Northern Mariana Islands</th>\n",
       "      <th>Puerto Rico</th>\n",
       "      <th>Virgin Islands</th>\n",
       "      <th>Alabama</th>\n",
       "      <th>Alabama</th>\n",
       "      <th>Alabama</th>\n",
       "      <th>Alabama</th>\n",
       "      <th>Alabama</th>\n",
       "      <th>...</th>\n",
       "      <th>Massachusetts</th>\n",
       "      <th>Missouri</th>\n",
       "      <th>Michigan</th>\n",
       "      <th>Michigan</th>\n",
       "      <th>Utah</th>\n",
       "      <th>Utah</th>\n",
       "      <th>Utah</th>\n",
       "      <th>Utah</th>\n",
       "      <th>Utah</th>\n",
       "      <th>Utah</th>\n",
       "    </tr>\n",
       "  </thead>\n",
       "  <tbody>\n",
       "    <tr>\n",
       "      <td>1/22/20</td>\n",
       "      <td>0</td>\n",
       "      <td>0</td>\n",
       "      <td>0</td>\n",
       "      <td>0</td>\n",
       "      <td>0</td>\n",
       "      <td>0</td>\n",
       "      <td>0</td>\n",
       "      <td>0</td>\n",
       "      <td>0</td>\n",
       "      <td>0</td>\n",
       "      <td>...</td>\n",
       "      <td>0</td>\n",
       "      <td>0</td>\n",
       "      <td>0</td>\n",
       "      <td>0</td>\n",
       "      <td>0</td>\n",
       "      <td>0</td>\n",
       "      <td>0</td>\n",
       "      <td>0</td>\n",
       "      <td>0</td>\n",
       "      <td>0</td>\n",
       "    </tr>\n",
       "    <tr>\n",
       "      <td>1/23/20</td>\n",
       "      <td>0</td>\n",
       "      <td>0</td>\n",
       "      <td>0</td>\n",
       "      <td>0</td>\n",
       "      <td>0</td>\n",
       "      <td>0</td>\n",
       "      <td>0</td>\n",
       "      <td>0</td>\n",
       "      <td>0</td>\n",
       "      <td>0</td>\n",
       "      <td>...</td>\n",
       "      <td>0</td>\n",
       "      <td>0</td>\n",
       "      <td>0</td>\n",
       "      <td>0</td>\n",
       "      <td>0</td>\n",
       "      <td>0</td>\n",
       "      <td>0</td>\n",
       "      <td>0</td>\n",
       "      <td>0</td>\n",
       "      <td>0</td>\n",
       "    </tr>\n",
       "    <tr>\n",
       "      <td>1/24/20</td>\n",
       "      <td>0</td>\n",
       "      <td>0</td>\n",
       "      <td>0</td>\n",
       "      <td>0</td>\n",
       "      <td>0</td>\n",
       "      <td>0</td>\n",
       "      <td>0</td>\n",
       "      <td>0</td>\n",
       "      <td>0</td>\n",
       "      <td>0</td>\n",
       "      <td>...</td>\n",
       "      <td>0</td>\n",
       "      <td>0</td>\n",
       "      <td>0</td>\n",
       "      <td>0</td>\n",
       "      <td>0</td>\n",
       "      <td>0</td>\n",
       "      <td>0</td>\n",
       "      <td>0</td>\n",
       "      <td>0</td>\n",
       "      <td>0</td>\n",
       "    </tr>\n",
       "    <tr>\n",
       "      <td>1/25/20</td>\n",
       "      <td>0</td>\n",
       "      <td>0</td>\n",
       "      <td>0</td>\n",
       "      <td>0</td>\n",
       "      <td>0</td>\n",
       "      <td>0</td>\n",
       "      <td>0</td>\n",
       "      <td>0</td>\n",
       "      <td>0</td>\n",
       "      <td>0</td>\n",
       "      <td>...</td>\n",
       "      <td>0</td>\n",
       "      <td>0</td>\n",
       "      <td>0</td>\n",
       "      <td>0</td>\n",
       "      <td>0</td>\n",
       "      <td>0</td>\n",
       "      <td>0</td>\n",
       "      <td>0</td>\n",
       "      <td>0</td>\n",
       "      <td>0</td>\n",
       "    </tr>\n",
       "    <tr>\n",
       "      <td>1/26/20</td>\n",
       "      <td>0</td>\n",
       "      <td>0</td>\n",
       "      <td>0</td>\n",
       "      <td>0</td>\n",
       "      <td>0</td>\n",
       "      <td>0</td>\n",
       "      <td>0</td>\n",
       "      <td>0</td>\n",
       "      <td>0</td>\n",
       "      <td>0</td>\n",
       "      <td>...</td>\n",
       "      <td>0</td>\n",
       "      <td>0</td>\n",
       "      <td>0</td>\n",
       "      <td>0</td>\n",
       "      <td>0</td>\n",
       "      <td>0</td>\n",
       "      <td>0</td>\n",
       "      <td>0</td>\n",
       "      <td>0</td>\n",
       "      <td>0</td>\n",
       "    </tr>\n",
       "  </tbody>\n",
       "</table>\n",
       "<p>5 rows × 3261 columns</p>\n",
       "</div>"
      ],
      "text/plain": [
       "Province_State  American Samoa  Guam  Northern Mariana Islands  Puerto Rico  \\\n",
       "1/22/20                      0     0                         0            0   \n",
       "1/23/20                      0     0                         0            0   \n",
       "1/24/20                      0     0                         0            0   \n",
       "1/25/20                      0     0                         0            0   \n",
       "1/26/20                      0     0                         0            0   \n",
       "\n",
       "Province_State  Virgin Islands  Alabama  Alabama  Alabama  Alabama  Alabama  \\\n",
       "1/22/20                      0        0        0        0        0        0   \n",
       "1/23/20                      0        0        0        0        0        0   \n",
       "1/24/20                      0        0        0        0        0        0   \n",
       "1/25/20                      0        0        0        0        0        0   \n",
       "1/26/20                      0        0        0        0        0        0   \n",
       "\n",
       "Province_State  ...  Massachusetts  Missouri  Michigan  Michigan  Utah  Utah  \\\n",
       "1/22/20         ...              0         0         0         0     0     0   \n",
       "1/23/20         ...              0         0         0         0     0     0   \n",
       "1/24/20         ...              0         0         0         0     0     0   \n",
       "1/25/20         ...              0         0         0         0     0     0   \n",
       "1/26/20         ...              0         0         0         0     0     0   \n",
       "\n",
       "Province_State  Utah  Utah  Utah  Utah  \n",
       "1/22/20            0     0     0     0  \n",
       "1/23/20            0     0     0     0  \n",
       "1/24/20            0     0     0     0  \n",
       "1/25/20            0     0     0     0  \n",
       "1/26/20            0     0     0     0  \n",
       "\n",
       "[5 rows x 3261 columns]"
      ]
     },
     "execution_count": 350,
     "metadata": {},
     "output_type": "execute_result"
    }
   ],
   "source": [
    "#all of the times are now in a single column\n",
    "confirmed_dt.head()"
   ]
  },
  {
   "cell_type": "code",
   "execution_count": 351,
   "metadata": {},
   "outputs": [],
   "source": [
    "#add up all the cases in repeating columns\n",
    "#more specifically, adding up all the cases of every county in a state, since we are looking at the state as a whole\n",
    "#and not at individual counties\n",
    "confirmed_dt = confirmed_dt.groupby(lambda x:x, axis=1).sum()"
   ]
  },
  {
   "cell_type": "code",
   "execution_count": 352,
   "metadata": {
    "scrolled": true
   },
   "outputs": [],
   "source": [
    "#resetting the index so it can be editted\n",
    "confirmed_dt = confirmed_dt.reset_index()"
   ]
  },
  {
   "cell_type": "code",
   "execution_count": 353,
   "metadata": {},
   "outputs": [],
   "source": [
    "#rename index to Time from Province_State\n",
    "confirmed_dt = confirmed_dt.rename({'index': 'Time'}, axis=1)"
   ]
  },
  {
   "cell_type": "code",
   "execution_count": 354,
   "metadata": {},
   "outputs": [
    {
     "data": {
      "text/html": [
       "<div>\n",
       "<style scoped>\n",
       "    .dataframe tbody tr th:only-of-type {\n",
       "        vertical-align: middle;\n",
       "    }\n",
       "\n",
       "    .dataframe tbody tr th {\n",
       "        vertical-align: top;\n",
       "    }\n",
       "\n",
       "    .dataframe thead th {\n",
       "        text-align: right;\n",
       "    }\n",
       "</style>\n",
       "<table border=\"1\" class=\"dataframe\">\n",
       "  <thead>\n",
       "    <tr style=\"text-align: right;\">\n",
       "      <th></th>\n",
       "      <th>Time</th>\n",
       "      <th>Alabama</th>\n",
       "      <th>Alaska</th>\n",
       "      <th>American Samoa</th>\n",
       "      <th>Arizona</th>\n",
       "      <th>Arkansas</th>\n",
       "      <th>California</th>\n",
       "      <th>Colorado</th>\n",
       "      <th>Connecticut</th>\n",
       "      <th>Delaware</th>\n",
       "      <th>...</th>\n",
       "      <th>Tennessee</th>\n",
       "      <th>Texas</th>\n",
       "      <th>Utah</th>\n",
       "      <th>Vermont</th>\n",
       "      <th>Virgin Islands</th>\n",
       "      <th>Virginia</th>\n",
       "      <th>Washington</th>\n",
       "      <th>West Virginia</th>\n",
       "      <th>Wisconsin</th>\n",
       "      <th>Wyoming</th>\n",
       "    </tr>\n",
       "  </thead>\n",
       "  <tbody>\n",
       "    <tr>\n",
       "      <td>0</td>\n",
       "      <td>1/22/20</td>\n",
       "      <td>0</td>\n",
       "      <td>0</td>\n",
       "      <td>0</td>\n",
       "      <td>0</td>\n",
       "      <td>0</td>\n",
       "      <td>0</td>\n",
       "      <td>0</td>\n",
       "      <td>0</td>\n",
       "      <td>0</td>\n",
       "      <td>...</td>\n",
       "      <td>0</td>\n",
       "      <td>0</td>\n",
       "      <td>0</td>\n",
       "      <td>0</td>\n",
       "      <td>0</td>\n",
       "      <td>0</td>\n",
       "      <td>1</td>\n",
       "      <td>0</td>\n",
       "      <td>0</td>\n",
       "      <td>0</td>\n",
       "    </tr>\n",
       "    <tr>\n",
       "      <td>1</td>\n",
       "      <td>1/23/20</td>\n",
       "      <td>0</td>\n",
       "      <td>0</td>\n",
       "      <td>0</td>\n",
       "      <td>0</td>\n",
       "      <td>0</td>\n",
       "      <td>0</td>\n",
       "      <td>0</td>\n",
       "      <td>0</td>\n",
       "      <td>0</td>\n",
       "      <td>...</td>\n",
       "      <td>0</td>\n",
       "      <td>0</td>\n",
       "      <td>0</td>\n",
       "      <td>0</td>\n",
       "      <td>0</td>\n",
       "      <td>0</td>\n",
       "      <td>1</td>\n",
       "      <td>0</td>\n",
       "      <td>0</td>\n",
       "      <td>0</td>\n",
       "    </tr>\n",
       "    <tr>\n",
       "      <td>2</td>\n",
       "      <td>1/24/20</td>\n",
       "      <td>0</td>\n",
       "      <td>0</td>\n",
       "      <td>0</td>\n",
       "      <td>0</td>\n",
       "      <td>0</td>\n",
       "      <td>0</td>\n",
       "      <td>0</td>\n",
       "      <td>0</td>\n",
       "      <td>0</td>\n",
       "      <td>...</td>\n",
       "      <td>0</td>\n",
       "      <td>0</td>\n",
       "      <td>0</td>\n",
       "      <td>0</td>\n",
       "      <td>0</td>\n",
       "      <td>0</td>\n",
       "      <td>1</td>\n",
       "      <td>0</td>\n",
       "      <td>0</td>\n",
       "      <td>0</td>\n",
       "    </tr>\n",
       "    <tr>\n",
       "      <td>3</td>\n",
       "      <td>1/25/20</td>\n",
       "      <td>0</td>\n",
       "      <td>0</td>\n",
       "      <td>0</td>\n",
       "      <td>0</td>\n",
       "      <td>0</td>\n",
       "      <td>0</td>\n",
       "      <td>0</td>\n",
       "      <td>0</td>\n",
       "      <td>0</td>\n",
       "      <td>...</td>\n",
       "      <td>0</td>\n",
       "      <td>0</td>\n",
       "      <td>0</td>\n",
       "      <td>0</td>\n",
       "      <td>0</td>\n",
       "      <td>0</td>\n",
       "      <td>1</td>\n",
       "      <td>0</td>\n",
       "      <td>0</td>\n",
       "      <td>0</td>\n",
       "    </tr>\n",
       "    <tr>\n",
       "      <td>4</td>\n",
       "      <td>1/26/20</td>\n",
       "      <td>0</td>\n",
       "      <td>0</td>\n",
       "      <td>0</td>\n",
       "      <td>1</td>\n",
       "      <td>0</td>\n",
       "      <td>2</td>\n",
       "      <td>0</td>\n",
       "      <td>0</td>\n",
       "      <td>0</td>\n",
       "      <td>...</td>\n",
       "      <td>0</td>\n",
       "      <td>0</td>\n",
       "      <td>0</td>\n",
       "      <td>0</td>\n",
       "      <td>0</td>\n",
       "      <td>0</td>\n",
       "      <td>1</td>\n",
       "      <td>0</td>\n",
       "      <td>0</td>\n",
       "      <td>0</td>\n",
       "    </tr>\n",
       "  </tbody>\n",
       "</table>\n",
       "<p>5 rows × 59 columns</p>\n",
       "</div>"
      ],
      "text/plain": [
       "      Time  Alabama  Alaska  American Samoa  Arizona  Arkansas  California  \\\n",
       "0  1/22/20        0       0               0        0         0           0   \n",
       "1  1/23/20        0       0               0        0         0           0   \n",
       "2  1/24/20        0       0               0        0         0           0   \n",
       "3  1/25/20        0       0               0        0         0           0   \n",
       "4  1/26/20        0       0               0        1         0           2   \n",
       "\n",
       "   Colorado  Connecticut  Delaware  ...  Tennessee  Texas  Utah  Vermont  \\\n",
       "0         0            0         0  ...          0      0     0        0   \n",
       "1         0            0         0  ...          0      0     0        0   \n",
       "2         0            0         0  ...          0      0     0        0   \n",
       "3         0            0         0  ...          0      0     0        0   \n",
       "4         0            0         0  ...          0      0     0        0   \n",
       "\n",
       "   Virgin Islands  Virginia  Washington  West Virginia  Wisconsin  Wyoming  \n",
       "0               0         0           1              0          0        0  \n",
       "1               0         0           1              0          0        0  \n",
       "2               0         0           1              0          0        0  \n",
       "3               0         0           1              0          0        0  \n",
       "4               0         0           1              0          0        0  \n",
       "\n",
       "[5 rows x 59 columns]"
      ]
     },
     "execution_count": 354,
     "metadata": {},
     "output_type": "execute_result"
    }
   ],
   "source": [
    "confirmed_dt.head()"
   ]
  },
  {
   "cell_type": "code",
   "execution_count": 355,
   "metadata": {},
   "outputs": [],
   "source": [
    "#make Time a datetime type\n",
    "confirmed_dt.Time = pd.to_datetime(confirmed_dt['Time'])"
   ]
  },
  {
   "cell_type": "code",
   "execution_count": 356,
   "metadata": {
    "scrolled": true
   },
   "outputs": [],
   "source": [
    "#set time as the index\n",
    "confirmed_dt = confirmed_dt.set_index('Time')"
   ]
  },
  {
   "cell_type": "code",
   "execution_count": 357,
   "metadata": {},
   "outputs": [],
   "source": [
    "confirmed_dt = confirmed_dt.sort_index()"
   ]
  },
  {
   "cell_type": "code",
   "execution_count": 358,
   "metadata": {},
   "outputs": [],
   "source": [
    "#total amount of cases per date in the US\n",
    "confirmed_dt['total_cases'] = confirmed_dt.sum(axis = 1)"
   ]
  },
  {
   "cell_type": "code",
   "execution_count": 359,
   "metadata": {},
   "outputs": [
    {
     "data": {
      "text/html": [
       "<div>\n",
       "<style scoped>\n",
       "    .dataframe tbody tr th:only-of-type {\n",
       "        vertical-align: middle;\n",
       "    }\n",
       "\n",
       "    .dataframe tbody tr th {\n",
       "        vertical-align: top;\n",
       "    }\n",
       "\n",
       "    .dataframe thead th {\n",
       "        text-align: right;\n",
       "    }\n",
       "</style>\n",
       "<table border=\"1\" class=\"dataframe\">\n",
       "  <thead>\n",
       "    <tr style=\"text-align: right;\">\n",
       "      <th></th>\n",
       "      <th>Alabama</th>\n",
       "      <th>Alaska</th>\n",
       "      <th>American Samoa</th>\n",
       "      <th>Arizona</th>\n",
       "      <th>Arkansas</th>\n",
       "      <th>California</th>\n",
       "      <th>Colorado</th>\n",
       "      <th>Connecticut</th>\n",
       "      <th>Delaware</th>\n",
       "      <th>Diamond Princess</th>\n",
       "      <th>...</th>\n",
       "      <th>Texas</th>\n",
       "      <th>Utah</th>\n",
       "      <th>Vermont</th>\n",
       "      <th>Virgin Islands</th>\n",
       "      <th>Virginia</th>\n",
       "      <th>Washington</th>\n",
       "      <th>West Virginia</th>\n",
       "      <th>Wisconsin</th>\n",
       "      <th>Wyoming</th>\n",
       "      <th>total_cases</th>\n",
       "    </tr>\n",
       "    <tr>\n",
       "      <th>Time</th>\n",
       "      <th></th>\n",
       "      <th></th>\n",
       "      <th></th>\n",
       "      <th></th>\n",
       "      <th></th>\n",
       "      <th></th>\n",
       "      <th></th>\n",
       "      <th></th>\n",
       "      <th></th>\n",
       "      <th></th>\n",
       "      <th></th>\n",
       "      <th></th>\n",
       "      <th></th>\n",
       "      <th></th>\n",
       "      <th></th>\n",
       "      <th></th>\n",
       "      <th></th>\n",
       "      <th></th>\n",
       "      <th></th>\n",
       "      <th></th>\n",
       "      <th></th>\n",
       "    </tr>\n",
       "  </thead>\n",
       "  <tbody>\n",
       "    <tr>\n",
       "      <td>2020-01-22</td>\n",
       "      <td>0</td>\n",
       "      <td>0</td>\n",
       "      <td>0</td>\n",
       "      <td>0</td>\n",
       "      <td>0</td>\n",
       "      <td>0</td>\n",
       "      <td>0</td>\n",
       "      <td>0</td>\n",
       "      <td>0</td>\n",
       "      <td>0</td>\n",
       "      <td>...</td>\n",
       "      <td>0</td>\n",
       "      <td>0</td>\n",
       "      <td>0</td>\n",
       "      <td>0</td>\n",
       "      <td>0</td>\n",
       "      <td>1</td>\n",
       "      <td>0</td>\n",
       "      <td>0</td>\n",
       "      <td>0</td>\n",
       "      <td>1</td>\n",
       "    </tr>\n",
       "    <tr>\n",
       "      <td>2020-01-23</td>\n",
       "      <td>0</td>\n",
       "      <td>0</td>\n",
       "      <td>0</td>\n",
       "      <td>0</td>\n",
       "      <td>0</td>\n",
       "      <td>0</td>\n",
       "      <td>0</td>\n",
       "      <td>0</td>\n",
       "      <td>0</td>\n",
       "      <td>0</td>\n",
       "      <td>...</td>\n",
       "      <td>0</td>\n",
       "      <td>0</td>\n",
       "      <td>0</td>\n",
       "      <td>0</td>\n",
       "      <td>0</td>\n",
       "      <td>1</td>\n",
       "      <td>0</td>\n",
       "      <td>0</td>\n",
       "      <td>0</td>\n",
       "      <td>1</td>\n",
       "    </tr>\n",
       "    <tr>\n",
       "      <td>2020-01-24</td>\n",
       "      <td>0</td>\n",
       "      <td>0</td>\n",
       "      <td>0</td>\n",
       "      <td>0</td>\n",
       "      <td>0</td>\n",
       "      <td>0</td>\n",
       "      <td>0</td>\n",
       "      <td>0</td>\n",
       "      <td>0</td>\n",
       "      <td>0</td>\n",
       "      <td>...</td>\n",
       "      <td>0</td>\n",
       "      <td>0</td>\n",
       "      <td>0</td>\n",
       "      <td>0</td>\n",
       "      <td>0</td>\n",
       "      <td>1</td>\n",
       "      <td>0</td>\n",
       "      <td>0</td>\n",
       "      <td>0</td>\n",
       "      <td>2</td>\n",
       "    </tr>\n",
       "    <tr>\n",
       "      <td>2020-01-25</td>\n",
       "      <td>0</td>\n",
       "      <td>0</td>\n",
       "      <td>0</td>\n",
       "      <td>0</td>\n",
       "      <td>0</td>\n",
       "      <td>0</td>\n",
       "      <td>0</td>\n",
       "      <td>0</td>\n",
       "      <td>0</td>\n",
       "      <td>0</td>\n",
       "      <td>...</td>\n",
       "      <td>0</td>\n",
       "      <td>0</td>\n",
       "      <td>0</td>\n",
       "      <td>0</td>\n",
       "      <td>0</td>\n",
       "      <td>1</td>\n",
       "      <td>0</td>\n",
       "      <td>0</td>\n",
       "      <td>0</td>\n",
       "      <td>2</td>\n",
       "    </tr>\n",
       "    <tr>\n",
       "      <td>2020-01-26</td>\n",
       "      <td>0</td>\n",
       "      <td>0</td>\n",
       "      <td>0</td>\n",
       "      <td>1</td>\n",
       "      <td>0</td>\n",
       "      <td>2</td>\n",
       "      <td>0</td>\n",
       "      <td>0</td>\n",
       "      <td>0</td>\n",
       "      <td>0</td>\n",
       "      <td>...</td>\n",
       "      <td>0</td>\n",
       "      <td>0</td>\n",
       "      <td>0</td>\n",
       "      <td>0</td>\n",
       "      <td>0</td>\n",
       "      <td>1</td>\n",
       "      <td>0</td>\n",
       "      <td>0</td>\n",
       "      <td>0</td>\n",
       "      <td>5</td>\n",
       "    </tr>\n",
       "  </tbody>\n",
       "</table>\n",
       "<p>5 rows × 59 columns</p>\n",
       "</div>"
      ],
      "text/plain": [
       "            Alabama  Alaska  American Samoa  Arizona  Arkansas  California  \\\n",
       "Time                                                                         \n",
       "2020-01-22        0       0               0        0         0           0   \n",
       "2020-01-23        0       0               0        0         0           0   \n",
       "2020-01-24        0       0               0        0         0           0   \n",
       "2020-01-25        0       0               0        0         0           0   \n",
       "2020-01-26        0       0               0        1         0           2   \n",
       "\n",
       "            Colorado  Connecticut  Delaware  Diamond Princess  ...  Texas  \\\n",
       "Time                                                           ...          \n",
       "2020-01-22         0            0         0                 0  ...      0   \n",
       "2020-01-23         0            0         0                 0  ...      0   \n",
       "2020-01-24         0            0         0                 0  ...      0   \n",
       "2020-01-25         0            0         0                 0  ...      0   \n",
       "2020-01-26         0            0         0                 0  ...      0   \n",
       "\n",
       "            Utah  Vermont  Virgin Islands  Virginia  Washington  \\\n",
       "Time                                                              \n",
       "2020-01-22     0        0               0         0           1   \n",
       "2020-01-23     0        0               0         0           1   \n",
       "2020-01-24     0        0               0         0           1   \n",
       "2020-01-25     0        0               0         0           1   \n",
       "2020-01-26     0        0               0         0           1   \n",
       "\n",
       "            West Virginia  Wisconsin  Wyoming  total_cases  \n",
       "Time                                                        \n",
       "2020-01-22              0          0        0            1  \n",
       "2020-01-23              0          0        0            1  \n",
       "2020-01-24              0          0        0            2  \n",
       "2020-01-25              0          0        0            2  \n",
       "2020-01-26              0          0        0            5  \n",
       "\n",
       "[5 rows x 59 columns]"
      ]
     },
     "execution_count": 359,
     "metadata": {},
     "output_type": "execute_result"
    }
   ],
   "source": [
    "confirmed_dt.head()"
   ]
  },
  {
   "cell_type": "markdown",
   "metadata": {},
   "source": [
    "## Repeat the same process with dataset on deaths"
   ]
  },
  {
   "cell_type": "code",
   "execution_count": 360,
   "metadata": {},
   "outputs": [],
   "source": [
    "deaths = pd.read_csv('data/time_series_covid19_deaths_US.csv')\n",
    "\n",
    "drops = ['UID','iso2','iso3','code3','FIPS','Country_Region','Lat','Long_','Admin2','Combined_Key', 'Population']\n",
    "deaths = deaths.drop(drops, axis = 1)\n",
    "\n",
    "deaths = deaths.set_index('Province_State')\n",
    "\n",
    "deaths_dt = deaths.T\n",
    "\n",
    "deaths_dt = deaths_dt.groupby(lambda x:x, axis=1).sum()\n",
    "\n",
    "deaths_dt = deaths_dt.reset_index()\n",
    "\n",
    "deaths_dt = deaths_dt.rename({'index': 'Time'}, axis=1)\n",
    "\n",
    "deaths_dt.Time = pd.to_datetime(deaths_dt['Time'])\n",
    "\n",
    "deaths_dt = deaths_dt.set_index('Time')\n",
    "deaths_dt = deaths_dt.sort_index()\n",
    "\n",
    "deaths_dt['total'] = deaths_dt.sum(axis = 1)"
   ]
  },
  {
   "cell_type": "code",
   "execution_count": 361,
   "metadata": {},
   "outputs": [],
   "source": [
    "#adding 'deaths' to every column name for specificity when joining\n",
    "deaths_dt.columns = [str(col) + '_deaths' for col in deaths_dt.columns]"
   ]
  },
  {
   "cell_type": "code",
   "execution_count": 362,
   "metadata": {},
   "outputs": [
    {
     "data": {
      "text/html": [
       "<div>\n",
       "<style scoped>\n",
       "    .dataframe tbody tr th:only-of-type {\n",
       "        vertical-align: middle;\n",
       "    }\n",
       "\n",
       "    .dataframe tbody tr th {\n",
       "        vertical-align: top;\n",
       "    }\n",
       "\n",
       "    .dataframe thead th {\n",
       "        text-align: right;\n",
       "    }\n",
       "</style>\n",
       "<table border=\"1\" class=\"dataframe\">\n",
       "  <thead>\n",
       "    <tr style=\"text-align: right;\">\n",
       "      <th></th>\n",
       "      <th>Alabama_deaths</th>\n",
       "      <th>Alaska_deaths</th>\n",
       "      <th>American Samoa_deaths</th>\n",
       "      <th>Arizona_deaths</th>\n",
       "      <th>Arkansas_deaths</th>\n",
       "      <th>California_deaths</th>\n",
       "      <th>Colorado_deaths</th>\n",
       "      <th>Connecticut_deaths</th>\n",
       "      <th>Delaware_deaths</th>\n",
       "      <th>Diamond Princess_deaths</th>\n",
       "      <th>...</th>\n",
       "      <th>Texas_deaths</th>\n",
       "      <th>Utah_deaths</th>\n",
       "      <th>Vermont_deaths</th>\n",
       "      <th>Virgin Islands_deaths</th>\n",
       "      <th>Virginia_deaths</th>\n",
       "      <th>Washington_deaths</th>\n",
       "      <th>West Virginia_deaths</th>\n",
       "      <th>Wisconsin_deaths</th>\n",
       "      <th>Wyoming_deaths</th>\n",
       "      <th>total_deaths</th>\n",
       "    </tr>\n",
       "    <tr>\n",
       "      <th>Time</th>\n",
       "      <th></th>\n",
       "      <th></th>\n",
       "      <th></th>\n",
       "      <th></th>\n",
       "      <th></th>\n",
       "      <th></th>\n",
       "      <th></th>\n",
       "      <th></th>\n",
       "      <th></th>\n",
       "      <th></th>\n",
       "      <th></th>\n",
       "      <th></th>\n",
       "      <th></th>\n",
       "      <th></th>\n",
       "      <th></th>\n",
       "      <th></th>\n",
       "      <th></th>\n",
       "      <th></th>\n",
       "      <th></th>\n",
       "      <th></th>\n",
       "      <th></th>\n",
       "    </tr>\n",
       "  </thead>\n",
       "  <tbody>\n",
       "    <tr>\n",
       "      <td>2020-01-22</td>\n",
       "      <td>0</td>\n",
       "      <td>0</td>\n",
       "      <td>0</td>\n",
       "      <td>0</td>\n",
       "      <td>0</td>\n",
       "      <td>0</td>\n",
       "      <td>0</td>\n",
       "      <td>0</td>\n",
       "      <td>0</td>\n",
       "      <td>0</td>\n",
       "      <td>...</td>\n",
       "      <td>0</td>\n",
       "      <td>0</td>\n",
       "      <td>0</td>\n",
       "      <td>0</td>\n",
       "      <td>0</td>\n",
       "      <td>0</td>\n",
       "      <td>0</td>\n",
       "      <td>0</td>\n",
       "      <td>0</td>\n",
       "      <td>0</td>\n",
       "    </tr>\n",
       "    <tr>\n",
       "      <td>2020-01-23</td>\n",
       "      <td>0</td>\n",
       "      <td>0</td>\n",
       "      <td>0</td>\n",
       "      <td>0</td>\n",
       "      <td>0</td>\n",
       "      <td>0</td>\n",
       "      <td>0</td>\n",
       "      <td>0</td>\n",
       "      <td>0</td>\n",
       "      <td>0</td>\n",
       "      <td>...</td>\n",
       "      <td>0</td>\n",
       "      <td>0</td>\n",
       "      <td>0</td>\n",
       "      <td>0</td>\n",
       "      <td>0</td>\n",
       "      <td>0</td>\n",
       "      <td>0</td>\n",
       "      <td>0</td>\n",
       "      <td>0</td>\n",
       "      <td>0</td>\n",
       "    </tr>\n",
       "    <tr>\n",
       "      <td>2020-01-24</td>\n",
       "      <td>0</td>\n",
       "      <td>0</td>\n",
       "      <td>0</td>\n",
       "      <td>0</td>\n",
       "      <td>0</td>\n",
       "      <td>0</td>\n",
       "      <td>0</td>\n",
       "      <td>0</td>\n",
       "      <td>0</td>\n",
       "      <td>0</td>\n",
       "      <td>...</td>\n",
       "      <td>0</td>\n",
       "      <td>0</td>\n",
       "      <td>0</td>\n",
       "      <td>0</td>\n",
       "      <td>0</td>\n",
       "      <td>0</td>\n",
       "      <td>0</td>\n",
       "      <td>0</td>\n",
       "      <td>0</td>\n",
       "      <td>0</td>\n",
       "    </tr>\n",
       "    <tr>\n",
       "      <td>2020-01-25</td>\n",
       "      <td>0</td>\n",
       "      <td>0</td>\n",
       "      <td>0</td>\n",
       "      <td>0</td>\n",
       "      <td>0</td>\n",
       "      <td>0</td>\n",
       "      <td>0</td>\n",
       "      <td>0</td>\n",
       "      <td>0</td>\n",
       "      <td>0</td>\n",
       "      <td>...</td>\n",
       "      <td>0</td>\n",
       "      <td>0</td>\n",
       "      <td>0</td>\n",
       "      <td>0</td>\n",
       "      <td>0</td>\n",
       "      <td>0</td>\n",
       "      <td>0</td>\n",
       "      <td>0</td>\n",
       "      <td>0</td>\n",
       "      <td>0</td>\n",
       "    </tr>\n",
       "    <tr>\n",
       "      <td>2020-01-26</td>\n",
       "      <td>0</td>\n",
       "      <td>0</td>\n",
       "      <td>0</td>\n",
       "      <td>0</td>\n",
       "      <td>0</td>\n",
       "      <td>0</td>\n",
       "      <td>0</td>\n",
       "      <td>0</td>\n",
       "      <td>0</td>\n",
       "      <td>0</td>\n",
       "      <td>...</td>\n",
       "      <td>0</td>\n",
       "      <td>0</td>\n",
       "      <td>0</td>\n",
       "      <td>0</td>\n",
       "      <td>0</td>\n",
       "      <td>0</td>\n",
       "      <td>0</td>\n",
       "      <td>0</td>\n",
       "      <td>0</td>\n",
       "      <td>0</td>\n",
       "    </tr>\n",
       "  </tbody>\n",
       "</table>\n",
       "<p>5 rows × 59 columns</p>\n",
       "</div>"
      ],
      "text/plain": [
       "            Alabama_deaths  Alaska_deaths  American Samoa_deaths  \\\n",
       "Time                                                               \n",
       "2020-01-22               0              0                      0   \n",
       "2020-01-23               0              0                      0   \n",
       "2020-01-24               0              0                      0   \n",
       "2020-01-25               0              0                      0   \n",
       "2020-01-26               0              0                      0   \n",
       "\n",
       "            Arizona_deaths  Arkansas_deaths  California_deaths  \\\n",
       "Time                                                             \n",
       "2020-01-22               0                0                  0   \n",
       "2020-01-23               0                0                  0   \n",
       "2020-01-24               0                0                  0   \n",
       "2020-01-25               0                0                  0   \n",
       "2020-01-26               0                0                  0   \n",
       "\n",
       "            Colorado_deaths  Connecticut_deaths  Delaware_deaths  \\\n",
       "Time                                                               \n",
       "2020-01-22                0                   0                0   \n",
       "2020-01-23                0                   0                0   \n",
       "2020-01-24                0                   0                0   \n",
       "2020-01-25                0                   0                0   \n",
       "2020-01-26                0                   0                0   \n",
       "\n",
       "            Diamond Princess_deaths  ...  Texas_deaths  Utah_deaths  \\\n",
       "Time                                 ...                              \n",
       "2020-01-22                        0  ...             0            0   \n",
       "2020-01-23                        0  ...             0            0   \n",
       "2020-01-24                        0  ...             0            0   \n",
       "2020-01-25                        0  ...             0            0   \n",
       "2020-01-26                        0  ...             0            0   \n",
       "\n",
       "            Vermont_deaths  Virgin Islands_deaths  Virginia_deaths  \\\n",
       "Time                                                                 \n",
       "2020-01-22               0                      0                0   \n",
       "2020-01-23               0                      0                0   \n",
       "2020-01-24               0                      0                0   \n",
       "2020-01-25               0                      0                0   \n",
       "2020-01-26               0                      0                0   \n",
       "\n",
       "            Washington_deaths  West Virginia_deaths  Wisconsin_deaths  \\\n",
       "Time                                                                    \n",
       "2020-01-22                  0                     0                 0   \n",
       "2020-01-23                  0                     0                 0   \n",
       "2020-01-24                  0                     0                 0   \n",
       "2020-01-25                  0                     0                 0   \n",
       "2020-01-26                  0                     0                 0   \n",
       "\n",
       "            Wyoming_deaths  total_deaths  \n",
       "Time                                      \n",
       "2020-01-22               0             0  \n",
       "2020-01-23               0             0  \n",
       "2020-01-24               0             0  \n",
       "2020-01-25               0             0  \n",
       "2020-01-26               0             0  \n",
       "\n",
       "[5 rows x 59 columns]"
      ]
     },
     "execution_count": 362,
     "metadata": {},
     "output_type": "execute_result"
    }
   ],
   "source": [
    "deaths_dt.head()"
   ]
  },
  {
   "cell_type": "markdown",
   "metadata": {},
   "source": [
    "## Joining confirmed_dt and deaths_dt into one dataset"
   ]
  },
  {
   "cell_type": "code",
   "execution_count": 363,
   "metadata": {},
   "outputs": [],
   "source": [
    "merged_df = pd.merge(confirmed_dt, deaths_dt, left_index=True, right_index=True)"
   ]
  },
  {
   "cell_type": "markdown",
   "metadata": {},
   "source": [
    "What is the correlation between cases and deaths?"
   ]
  },
  {
   "cell_type": "code",
   "execution_count": 364,
   "metadata": {},
   "outputs": [
    {
     "data": {
      "text/html": [
       "<div>\n",
       "<style scoped>\n",
       "    .dataframe tbody tr th:only-of-type {\n",
       "        vertical-align: middle;\n",
       "    }\n",
       "\n",
       "    .dataframe tbody tr th {\n",
       "        vertical-align: top;\n",
       "    }\n",
       "\n",
       "    .dataframe thead th {\n",
       "        text-align: right;\n",
       "    }\n",
       "</style>\n",
       "<table border=\"1\" class=\"dataframe\">\n",
       "  <thead>\n",
       "    <tr style=\"text-align: right;\">\n",
       "      <th></th>\n",
       "      <th>total_cases</th>\n",
       "      <th>total_deaths</th>\n",
       "    </tr>\n",
       "  </thead>\n",
       "  <tbody>\n",
       "    <tr>\n",
       "      <td>total_cases</td>\n",
       "      <td>1.000000</td>\n",
       "      <td>0.993183</td>\n",
       "    </tr>\n",
       "    <tr>\n",
       "      <td>total_deaths</td>\n",
       "      <td>0.993183</td>\n",
       "      <td>1.000000</td>\n",
       "    </tr>\n",
       "  </tbody>\n",
       "</table>\n",
       "</div>"
      ],
      "text/plain": [
       "              total_cases  total_deaths\n",
       "total_cases      1.000000      0.993183\n",
       "total_deaths     0.993183      1.000000"
      ]
     },
     "execution_count": 364,
     "metadata": {},
     "output_type": "execute_result"
    }
   ],
   "source": [
    "merged_df[['total_cases','total_deaths']].corr()"
   ]
  },
  {
   "cell_type": "markdown",
   "metadata": {},
   "source": [
    "We can see there is a very strong correlation (almost 1) between cases and deaths\n"
   ]
  },
  {
   "cell_type": "markdown",
   "metadata": {},
   "source": [
    "***"
   ]
  },
  {
   "cell_type": "markdown",
   "metadata": {},
   "source": [
    "## Analyses"
   ]
  },
  {
   "cell_type": "code",
   "execution_count": 365,
   "metadata": {},
   "outputs": [
    {
     "data": {
      "text/plain": [
       "New York      395872\n",
       "California    250514\n",
       "Texas         185591\n",
       "Florida       178594\n",
       "New Jersey    172742\n",
       "dtype: int64"
      ]
     },
     "execution_count": 365,
     "metadata": {},
     "output_type": "execute_result"
    }
   ],
   "source": [
    "#top 5 states with the most corona cases\n",
    "confirmed_dt.drop('total_cases',axis=1).max().sort_values(ascending = False).head(5)"
   ]
  },
  {
   "cell_type": "code",
   "execution_count": 366,
   "metadata": {},
   "outputs": [
    {
     "data": {
      "text/plain": [
       "New York_deaths         32137\n",
       "New Jersey_deaths       15164\n",
       "Massachusetts_deaths     8149\n",
       "Illinois_deaths          7005\n",
       "Pennsylvania_deaths      6746\n",
       "dtype: int64"
      ]
     },
     "execution_count": 366,
     "metadata": {},
     "output_type": "execute_result"
    }
   ],
   "source": [
    "#top 5 states with the most corona deaths\n",
    "deaths_dt.drop('total_deaths',axis=1).max().sort_values(ascending = False).head(5)"
   ]
  },
  {
   "cell_type": "code",
   "execution_count": 367,
   "metadata": {
    "scrolled": true
   },
   "outputs": [
    {
     "name": "stdout",
     "output_type": "stream",
     "text": [
      "We have data between 2020-01-22 00:00:00 and 2020-07-03 00:00:00\n"
     ]
    }
   ],
   "source": [
    "print('We have data between %s and %s' % (confirmed_dt.index.min(), confirmed_dt.index.max()))"
   ]
  },
  {
   "cell_type": "code",
   "execution_count": 368,
   "metadata": {},
   "outputs": [],
   "source": [
    "#fixing a pandas bug\n",
    "pd.plotting.register_matplotlib_converters()"
   ]
  },
  {
   "cell_type": "markdown",
   "metadata": {},
   "source": [
    "## Looking at the top 5 states with most cases and their deaths"
   ]
  },
  {
   "cell_type": "markdown",
   "metadata": {},
   "source": [
    "### New York"
   ]
  },
  {
   "cell_type": "code",
   "execution_count": 369,
   "metadata": {
    "scrolled": true
   },
   "outputs": [
    {
     "data": {
      "text/plain": [
       "Text(0.5, 1.0, 'Cases NY')"
      ]
     },
     "execution_count": 369,
     "metadata": {},
     "output_type": "execute_result"
    },
    {
     "data": {
      "image/png": "[encoded data removed]",
      "text/plain": [
       "<Figure size 1152x288 with 1 Axes>"
      ]
     },
     "metadata": {
      "needs_background": "light"
     },
     "output_type": "display_data"
    }
   ],
   "source": [
    "#how the cases grew in new york from february to july\n",
    "#went from a sort of exponential curve to a logorithmic curve\n",
    "confirmed_dt.loc['2020']['New York'].plot(figsize=(16, 4));\n",
    "plt.title('Cases NY', fontsize=15)"
   ]
  },
  {
   "cell_type": "code",
   "execution_count": 370,
   "metadata": {},
   "outputs": [
    {
     "data": {
      "text/plain": [
       "Text(0.5, 1.0, 'Deaths NY')"
      ]
     },
     "execution_count": 370,
     "metadata": {},
     "output_type": "execute_result"
    },
    {
     "data": {
      "image/png": "[encoded data removed]",
      "text/plain": [
       "<Figure size 1152x288 with 1 Axes>"
      ]
     },
     "metadata": {
      "needs_background": "light"
     },
     "output_type": "display_data"
    }
   ],
   "source": [
    "deaths_dt.loc['2020']['New York_deaths'].plot(figsize=(16, 4));\n",
    "plt.title('Deaths NY', fontsize=15)"
   ]
  },
  {
   "cell_type": "markdown",
   "metadata": {},
   "source": [
    "### California"
   ]
  },
  {
   "cell_type": "code",
   "execution_count": 371,
   "metadata": {},
   "outputs": [
    {
     "data": {
      "text/plain": [
       "Text(0.5, 1.0, 'Cases CA')"
      ]
     },
     "execution_count": 371,
     "metadata": {},
     "output_type": "execute_result"
    },
    {
     "data": {
      "image/png": "[encoded data removed]",
      "text/plain": [
       "<Figure size 1152x288 with 1 Axes>"
      ]
     },
     "metadata": {
      "needs_background": "light"
     },
     "output_type": "display_data"
    }
   ],
   "source": [
    "#california has an exponential curve\n",
    "confirmed_dt.loc['2020']['California'].plot(figsize=(16, 4));\n",
    "plt.title('Cases CA', fontsize=15)"
   ]
  },
  {
   "cell_type": "code",
   "execution_count": 372,
   "metadata": {},
   "outputs": [
    {
     "data": {
      "text/plain": [
       "Text(0.5, 1.0, 'Deaths CA')"
      ]
     },
     "execution_count": 372,
     "metadata": {},
     "output_type": "execute_result"
    },
    {
     "data": {
      "image/png": "[encoded data removed]",
      "text/plain": [
       "<Figure size 1152x288 with 1 Axes>"
      ]
     },
     "metadata": {
      "needs_background": "light"
     },
     "output_type": "display_data"
    }
   ],
   "source": [
    "deaths_dt.loc['2020']['California_deaths'].plot(figsize=(16, 4));\n",
    "plt.title('Deaths CA', fontsize=15)"
   ]
  },
  {
   "cell_type": "markdown",
   "metadata": {},
   "source": [
    "### Texas"
   ]
  },
  {
   "cell_type": "code",
   "execution_count": 373,
   "metadata": {},
   "outputs": [
    {
     "data": {
      "text/plain": [
       "Text(0.5, 1.0, 'Cases TX')"
      ]
     },
     "execution_count": 373,
     "metadata": {},
     "output_type": "execute_result"
    },
    {
     "data": {
      "image/png": "[encoded data removed]",
      "text/plain": [
       "<Figure size 1152x288 with 1 Axes>"
      ]
     },
     "metadata": {
      "needs_background": "light"
     },
     "output_type": "display_data"
    }
   ],
   "source": [
    "#texas has an exponential curve\n",
    "confirmed_dt.loc['2020']['Texas'].plot(figsize=(16, 4));\n",
    "plt.title('Cases TX', fontsize=15)"
   ]
  },
  {
   "cell_type": "code",
   "execution_count": 374,
   "metadata": {},
   "outputs": [
    {
     "data": {
      "text/plain": [
       "Text(0.5, 1.0, 'Deaths TX')"
      ]
     },
     "execution_count": 374,
     "metadata": {},
     "output_type": "execute_result"
    },
    {
     "data": {
      "image/png": "[encoded data removed]",
      "text/plain": [
       "<Figure size 1152x288 with 1 Axes>"
      ]
     },
     "metadata": {
      "needs_background": "light"
     },
     "output_type": "display_data"
    }
   ],
   "source": [
    "deaths_dt.loc['2020']['Texas_deaths'].plot(figsize=(16, 4));\n",
    "plt.title('Deaths TX', fontsize=15)"
   ]
  },
  {
   "cell_type": "markdown",
   "metadata": {},
   "source": [
    "### Florida"
   ]
  },
  {
   "cell_type": "code",
   "execution_count": 375,
   "metadata": {},
   "outputs": [
    {
     "data": {
      "text/plain": [
       "Text(0.5, 1.0, 'Cases FL')"
      ]
     },
     "execution_count": 375,
     "metadata": {},
     "output_type": "execute_result"
    },
    {
     "data": {
      "image/png": "[encoded data removed]",
      "text/plain": [
       "<Figure size 1152x288 with 1 Axes>"
      ]
     },
     "metadata": {
      "needs_background": "light"
     },
     "output_type": "display_data"
    }
   ],
   "source": [
    "#florida has an exponential curve\n",
    "confirmed_dt.loc['2020']['Florida'].plot(figsize=(16, 4));\n",
    "plt.title('Cases FL', fontsize=15)"
   ]
  },
  {
   "cell_type": "code",
   "execution_count": 376,
   "metadata": {},
   "outputs": [
    {
     "data": {
      "text/plain": [
       "Text(0.5, 1.0, 'Deaths FL')"
      ]
     },
     "execution_count": 376,
     "metadata": {},
     "output_type": "execute_result"
    },
    {
     "data": {
      "image/png": "[encoded data removed]",
      "text/plain": [
       "<Figure size 1152x288 with 1 Axes>"
      ]
     },
     "metadata": {
      "needs_background": "light"
     },
     "output_type": "display_data"
    }
   ],
   "source": [
    "deaths_dt.loc['2020']['Florida_deaths'].plot(figsize=(16, 4));\n",
    "plt.title('Deaths FL', fontsize=15)"
   ]
  },
  {
   "cell_type": "markdown",
   "metadata": {},
   "source": [
    "### New Jersey"
   ]
  },
  {
   "cell_type": "code",
   "execution_count": 377,
   "metadata": {},
   "outputs": [
    {
     "data": {
      "text/plain": [
       "Text(0.5, 1.0, 'Cases NJ')"
      ]
     },
     "execution_count": 377,
     "metadata": {},
     "output_type": "execute_result"
    },
    {
     "data": {
      "image/png": "[encoded data removed]",
      "text/plain": [
       "<Figure size 1152x288 with 1 Axes>"
      ]
     },
     "metadata": {
      "needs_background": "light"
     },
     "output_type": "display_data"
    }
   ],
   "source": [
    "#new jersey has a similar curve to new york, where it is beginning to flatten\n",
    "confirmed_dt.loc['2020']['New Jersey'].plot(figsize=(16, 4));\n",
    "plt.title('Cases NJ', fontsize=15)"
   ]
  },
  {
   "cell_type": "code",
   "execution_count": 378,
   "metadata": {},
   "outputs": [
    {
     "data": {
      "text/plain": [
       "Text(0.5, 1.0, 'Deaths NJ')"
      ]
     },
     "execution_count": 378,
     "metadata": {},
     "output_type": "execute_result"
    },
    {
     "data": {
      "image/png": "[encoded data removed]",
      "text/plain": [
       "<Figure size 1152x288 with 1 Axes>"
      ]
     },
     "metadata": {
      "needs_background": "light"
     },
     "output_type": "display_data"
    }
   ],
   "source": [
    "deaths_dt.loc['2020']['New Jersey_deaths'].plot(figsize=(16, 4));\n",
    "plt.title('Deaths NJ', fontsize=15)"
   ]
  },
  {
   "cell_type": "markdown",
   "metadata": {},
   "source": [
    "### We can see that, in some states, there was a spike in cases that leveled off, whereas in other states, the curve is still not flattened and is increasing. The death count mimics the number of cases, with deaths increasing steadily as cases increase steadily in states like CA, TX, and FL, whereas the deaths are flattening and leveling off as cases do the same, in states like NY and NJ."
   ]
  },
  {
   "cell_type": "code",
   "execution_count": 379,
   "metadata": {},
   "outputs": [
    {
     "data": {
      "text/plain": [
       "Text(0.5, 1.0, 'Total Cases')"
      ]
     },
     "execution_count": 379,
     "metadata": {},
     "output_type": "execute_result"
    },
    {
     "data": {
      "image/png": "[encoded data removed]",
      "text/plain": [
       "<Figure size 1152x288 with 1 Axes>"
      ]
     },
     "metadata": {
      "needs_background": "light"
     },
     "output_type": "display_data"
    }
   ],
   "source": [
    "#the total number of cases in the US as a whole has not flattened and is still rising\n",
    "confirmed_dt.loc['2020']['total_cases'].plot(figsize=(16, 4)); \n",
    "plt.title('Total Cases', fontsize = 15)"
   ]
  },
  {
   "cell_type": "code",
   "execution_count": 380,
   "metadata": {},
   "outputs": [
    {
     "data": {
      "text/plain": [
       "Text(0.5, 1.0, 'Total Deaths')"
      ]
     },
     "execution_count": 380,
     "metadata": {},
     "output_type": "execute_result"
    },
    {
     "data": {
      "image/png": "[encoded data removed]",
      "text/plain": [
       "<Figure size 1152x288 with 1 Axes>"
      ]
     },
     "metadata": {
      "needs_background": "light"
     },
     "output_type": "display_data"
    }
   ],
   "source": [
    "deaths_dt.loc['2020']['total_deaths'].plot(figsize=(16, 4));\n",
    "plt.title('Total Deaths', fontsize = 15)"
   ]
  },
  {
   "cell_type": "markdown",
   "metadata": {},
   "source": [
    "***"
   ]
  },
  {
   "cell_type": "markdown",
   "metadata": {},
   "source": [
    "# Predictive Modelling With Facebook Prophet"
   ]
  },
  {
   "cell_type": "markdown",
   "metadata": {},
   "source": [
    "## Forecasting the number of cases"
   ]
  },
  {
   "cell_type": "markdown",
   "metadata": {},
   "source": [
    "### Setup"
   ]
  },
  {
   "cell_type": "code",
   "execution_count": 381,
   "metadata": {},
   "outputs": [],
   "source": [
    "#resetting index so time may be used for the ds requirement\n",
    "x = confirmed_dt.reset_index()"
   ]
  },
  {
   "cell_type": "code",
   "execution_count": 382,
   "metadata": {},
   "outputs": [
    {
     "data": {
      "text/html": [
       "<div>\n",
       "<style scoped>\n",
       "    .dataframe tbody tr th:only-of-type {\n",
       "        vertical-align: middle;\n",
       "    }\n",
       "\n",
       "    .dataframe tbody tr th {\n",
       "        vertical-align: top;\n",
       "    }\n",
       "\n",
       "    .dataframe thead th {\n",
       "        text-align: right;\n",
       "    }\n",
       "</style>\n",
       "<table border=\"1\" class=\"dataframe\">\n",
       "  <thead>\n",
       "    <tr style=\"text-align: right;\">\n",
       "      <th></th>\n",
       "      <th>ds</th>\n",
       "      <th>y</th>\n",
       "    </tr>\n",
       "  </thead>\n",
       "  <tbody>\n",
       "    <tr>\n",
       "      <td>0</td>\n",
       "      <td>2020-01-22</td>\n",
       "      <td>1</td>\n",
       "    </tr>\n",
       "    <tr>\n",
       "      <td>1</td>\n",
       "      <td>2020-01-23</td>\n",
       "      <td>1</td>\n",
       "    </tr>\n",
       "    <tr>\n",
       "      <td>2</td>\n",
       "      <td>2020-01-24</td>\n",
       "      <td>2</td>\n",
       "    </tr>\n",
       "    <tr>\n",
       "      <td>3</td>\n",
       "      <td>2020-01-25</td>\n",
       "      <td>2</td>\n",
       "    </tr>\n",
       "    <tr>\n",
       "      <td>4</td>\n",
       "      <td>2020-01-26</td>\n",
       "      <td>5</td>\n",
       "    </tr>\n",
       "  </tbody>\n",
       "</table>\n",
       "</div>"
      ],
      "text/plain": [
       "          ds  y\n",
       "0 2020-01-22  1\n",
       "1 2020-01-23  1\n",
       "2 2020-01-24  2\n",
       "3 2020-01-25  2\n",
       "4 2020-01-26  5"
      ]
     },
     "execution_count": 382,
     "metadata": {},
     "output_type": "execute_result"
    }
   ],
   "source": [
    "#prophet requires 2 columns, a date time column and a 'y', or a target variable\n",
    "x[\"ds\"] = pd.to_datetime(x['Time'])\n",
    "x[\"y\"] = x['total_cases']\n",
    "data = x[[\"ds\", \"y\"]]\n",
    "data.head()"
   ]
  },
  {
   "cell_type": "code",
   "execution_count": 383,
   "metadata": {},
   "outputs": [
    {
     "data": {
      "text/plain": [
       "[<matplotlib.lines.Line2D at 0x233e3084608>]"
      ]
     },
     "execution_count": 383,
     "metadata": {},
     "output_type": "execute_result"
    },
    {
     "data": {
      "image/png": "[encoded data removed]",
      "text/plain": [
       "<Figure size 432x288 with 1 Axes>"
      ]
     },
     "metadata": {
      "needs_background": "light"
     },
     "output_type": "display_data"
    }
   ],
   "source": [
    "#plot of all confirmed US cases by date\n",
    "plt.plot(data.ds, data.y)"
   ]
  },
  {
   "cell_type": "markdown",
   "metadata": {},
   "source": [
    "### Fitting"
   ]
  },
  {
   "cell_type": "code",
   "execution_count": 384,
   "metadata": {},
   "outputs": [],
   "source": [
    "#instantiating the model\n",
    "from fbprophet import Prophet\n",
    "m = Prophet(yearly_seasonality=True, weekly_seasonality=\"auto\", daily_seasonality=\"auto\")\n",
    "#we want to look at seasonality to try and identify patterns in covid cases"
   ]
  },
  {
   "cell_type": "code",
   "execution_count": 385,
   "metadata": {},
   "outputs": [
    {
     "name": "stderr",
     "output_type": "stream",
     "text": [
      "INFO:fbprophet:Disabling daily seasonality. Run prophet with daily_seasonality=True to override this.\n"
     ]
    },
    {
     "name": "stdout",
     "output_type": "stream",
     "text": [
      "Wall time: 1.74 s\n"
     ]
    },
    {
     "data": {
      "text/plain": [
       "<fbprophet.forecaster.Prophet at 0x233e3338f48>"
      ]
     },
     "execution_count": 385,
     "metadata": {},
     "output_type": "execute_result"
    }
   ],
   "source": [
    "#fitting the model\n",
    "%time m.fit(data)"
   ]
  },
  {
   "cell_type": "markdown",
   "metadata": {},
   "source": [
    "### Cross Validation"
   ]
  },
  {
   "cell_type": "code",
   "execution_count": 386,
   "metadata": {},
   "outputs": [
    {
     "name": "stderr",
     "output_type": "stream",
     "text": [
      "WARNING:fbprophet:Seasonality has period of 365.25 days which is larger than initial window. Consider increasing initial.\n",
      "INFO:fbprophet:Making 36 forecasts with cutoffs between 2020-02-11 00:00:00 and 2020-06-30 00:00:00\n",
      "INFO:fbprophet:n_changepoints greater than number of observations. Using 15.\n",
      "INFO:fbprophet:n_changepoints greater than number of observations. Using 19.\n",
      "INFO:fbprophet:n_changepoints greater than number of observations. Using 22.\n"
     ]
    }
   ],
   "source": [
    "#cross validating the model\n",
    "from fbprophet.diagnostics import cross_validation\n",
    "cv_results = cross_validation(m,  initial=\"20 days\", horizon=\"3 days\", period=\"4 days\")"
   ]
  },
  {
   "cell_type": "code",
   "execution_count": 387,
   "metadata": {},
   "outputs": [
    {
     "data": {
      "text/plain": [
       "(108, 6)"
      ]
     },
     "execution_count": 387,
     "metadata": {},
     "output_type": "execute_result"
    }
   ],
   "source": [
    "cv_results.shape"
   ]
  },
  {
   "cell_type": "code",
   "execution_count": 388,
   "metadata": {},
   "outputs": [
    {
     "data": {
      "text/html": [
       "<div>\n",
       "<style scoped>\n",
       "    .dataframe tbody tr th:only-of-type {\n",
       "        vertical-align: middle;\n",
       "    }\n",
       "\n",
       "    .dataframe tbody tr th {\n",
       "        vertical-align: top;\n",
       "    }\n",
       "\n",
       "    .dataframe thead th {\n",
       "        text-align: right;\n",
       "    }\n",
       "</style>\n",
       "<table border=\"1\" class=\"dataframe\">\n",
       "  <thead>\n",
       "    <tr style=\"text-align: right;\">\n",
       "      <th></th>\n",
       "      <th>ds</th>\n",
       "      <th>yhat</th>\n",
       "      <th>yhat_lower</th>\n",
       "      <th>yhat_upper</th>\n",
       "      <th>y</th>\n",
       "      <th>cutoff</th>\n",
       "    </tr>\n",
       "  </thead>\n",
       "  <tbody>\n",
       "    <tr>\n",
       "      <td>0</td>\n",
       "      <td>2020-02-12</td>\n",
       "      <td>10.127435</td>\n",
       "      <td>9.468468</td>\n",
       "      <td>10.741709</td>\n",
       "      <td>12</td>\n",
       "      <td>2020-02-11</td>\n",
       "    </tr>\n",
       "    <tr>\n",
       "      <td>1</td>\n",
       "      <td>2020-02-13</td>\n",
       "      <td>9.327009</td>\n",
       "      <td>8.619828</td>\n",
       "      <td>10.011876</td>\n",
       "      <td>13</td>\n",
       "      <td>2020-02-11</td>\n",
       "    </tr>\n",
       "    <tr>\n",
       "      <td>2</td>\n",
       "      <td>2020-02-14</td>\n",
       "      <td>9.917552</td>\n",
       "      <td>9.234029</td>\n",
       "      <td>10.564049</td>\n",
       "      <td>13</td>\n",
       "      <td>2020-02-11</td>\n",
       "    </tr>\n",
       "    <tr>\n",
       "      <td>3</td>\n",
       "      <td>2020-02-16</td>\n",
       "      <td>15.851362</td>\n",
       "      <td>15.080395</td>\n",
       "      <td>16.630990</td>\n",
       "      <td>13</td>\n",
       "      <td>2020-02-15</td>\n",
       "    </tr>\n",
       "    <tr>\n",
       "      <td>4</td>\n",
       "      <td>2020-02-17</td>\n",
       "      <td>18.648721</td>\n",
       "      <td>17.870409</td>\n",
       "      <td>19.384328</td>\n",
       "      <td>13</td>\n",
       "      <td>2020-02-15</td>\n",
       "    </tr>\n",
       "  </tbody>\n",
       "</table>\n",
       "</div>"
      ],
      "text/plain": [
       "          ds       yhat  yhat_lower  yhat_upper   y     cutoff\n",
       "0 2020-02-12  10.127435    9.468468   10.741709  12 2020-02-11\n",
       "1 2020-02-13   9.327009    8.619828   10.011876  13 2020-02-11\n",
       "2 2020-02-14   9.917552    9.234029   10.564049  13 2020-02-11\n",
       "3 2020-02-16  15.851362   15.080395   16.630990  13 2020-02-15\n",
       "4 2020-02-17  18.648721   17.870409   19.384328  13 2020-02-15"
      ]
     },
     "execution_count": 388,
     "metadata": {},
     "output_type": "execute_result"
    }
   ],
   "source": [
    "cv_results.head()"
   ]
  },
  {
   "cell_type": "code",
   "execution_count": 389,
   "metadata": {
    "scrolled": true
   },
   "outputs": [
    {
     "data": {
      "text/html": [
       "<div>\n",
       "<style scoped>\n",
       "    .dataframe tbody tr th:only-of-type {\n",
       "        vertical-align: middle;\n",
       "    }\n",
       "\n",
       "    .dataframe tbody tr th {\n",
       "        vertical-align: top;\n",
       "    }\n",
       "\n",
       "    .dataframe thead th {\n",
       "        text-align: right;\n",
       "    }\n",
       "</style>\n",
       "<table border=\"1\" class=\"dataframe\">\n",
       "  <thead>\n",
       "    <tr style=\"text-align: right;\">\n",
       "      <th></th>\n",
       "      <th>horizon</th>\n",
       "      <th>mse</th>\n",
       "      <th>rmse</th>\n",
       "      <th>mae</th>\n",
       "      <th>mape</th>\n",
       "      <th>mdape</th>\n",
       "      <th>coverage</th>\n",
       "    </tr>\n",
       "  </thead>\n",
       "  <tbody>\n",
       "    <tr>\n",
       "      <td>0</td>\n",
       "      <td>1 days</td>\n",
       "      <td>1.649598e+07</td>\n",
       "      <td>4061.523989</td>\n",
       "      <td>2860.074448</td>\n",
       "      <td>0.042388</td>\n",
       "      <td>0.007267</td>\n",
       "      <td>0.250000</td>\n",
       "    </tr>\n",
       "    <tr>\n",
       "      <td>1</td>\n",
       "      <td>2 days</td>\n",
       "      <td>6.858372e+07</td>\n",
       "      <td>8281.528866</td>\n",
       "      <td>6286.643021</td>\n",
       "      <td>0.070331</td>\n",
       "      <td>0.014327</td>\n",
       "      <td>0.111111</td>\n",
       "    </tr>\n",
       "    <tr>\n",
       "      <td>2</td>\n",
       "      <td>3 days</td>\n",
       "      <td>1.793423e+08</td>\n",
       "      <td>13391.873626</td>\n",
       "      <td>10119.580310</td>\n",
       "      <td>0.091030</td>\n",
       "      <td>0.021046</td>\n",
       "      <td>0.083333</td>\n",
       "    </tr>\n",
       "  </tbody>\n",
       "</table>\n",
       "</div>"
      ],
      "text/plain": [
       "  horizon           mse          rmse           mae      mape     mdape  \\\n",
       "0  1 days  1.649598e+07   4061.523989   2860.074448  0.042388  0.007267   \n",
       "1  2 days  6.858372e+07   8281.528866   6286.643021  0.070331  0.014327   \n",
       "2  3 days  1.793423e+08  13391.873626  10119.580310  0.091030  0.021046   \n",
       "\n",
       "   coverage  \n",
       "0  0.250000  \n",
       "1  0.111111  \n",
       "2  0.083333  "
      ]
     },
     "execution_count": 389,
     "metadata": {},
     "output_type": "execute_result"
    }
   ],
   "source": [
    "#performance metrics\n",
    "from fbprophet.diagnostics import performance_metrics\n",
    "df_p = performance_metrics(cv_results)\n",
    "df_p.head()"
   ]
  },
  {
   "cell_type": "code",
   "execution_count": 390,
   "metadata": {},
   "outputs": [
    {
     "data": {
      "image/png": "[encoded data removed]",
      "text/plain": [
       "<Figure size 720x432 with 1 Axes>"
      ]
     },
     "metadata": {},
     "output_type": "display_data"
    }
   ],
   "source": [
    "#plotting metrics\n",
    "from fbprophet.plot import plot_cross_validation_metric\n",
    "fig = plot_cross_validation_metric(cv_results, metric='mape')"
   ]
  },
  {
   "cell_type": "markdown",
   "metadata": {},
   "source": [
    "### Predicting "
   ]
  },
  {
   "cell_type": "code",
   "execution_count": 391,
   "metadata": {},
   "outputs": [
    {
     "data": {
      "text/html": [
       "<div>\n",
       "<style scoped>\n",
       "    .dataframe tbody tr th:only-of-type {\n",
       "        vertical-align: middle;\n",
       "    }\n",
       "\n",
       "    .dataframe tbody tr th {\n",
       "        vertical-align: top;\n",
       "    }\n",
       "\n",
       "    .dataframe thead th {\n",
       "        text-align: right;\n",
       "    }\n",
       "</style>\n",
       "<table border=\"1\" class=\"dataframe\">\n",
       "  <thead>\n",
       "    <tr style=\"text-align: right;\">\n",
       "      <th></th>\n",
       "      <th>ds</th>\n",
       "    </tr>\n",
       "  </thead>\n",
       "  <tbody>\n",
       "    <tr>\n",
       "      <td>0</td>\n",
       "      <td>2020-01-22</td>\n",
       "    </tr>\n",
       "    <tr>\n",
       "      <td>1</td>\n",
       "      <td>2020-01-23</td>\n",
       "    </tr>\n",
       "    <tr>\n",
       "      <td>2</td>\n",
       "      <td>2020-01-24</td>\n",
       "    </tr>\n",
       "    <tr>\n",
       "      <td>3</td>\n",
       "      <td>2020-01-25</td>\n",
       "    </tr>\n",
       "    <tr>\n",
       "      <td>4</td>\n",
       "      <td>2020-01-26</td>\n",
       "    </tr>\n",
       "  </tbody>\n",
       "</table>\n",
       "</div>"
      ],
      "text/plain": [
       "          ds\n",
       "0 2020-01-22\n",
       "1 2020-01-23\n",
       "2 2020-01-24\n",
       "3 2020-01-25\n",
       "4 2020-01-26"
      ]
     },
     "execution_count": 391,
     "metadata": {},
     "output_type": "execute_result"
    }
   ],
   "source": [
    "# this makes an empty data frame for which we are going to predict the values\n",
    "future = m.make_future_dataframe(periods=30, include_history=True) \n",
    "future.head()"
   ]
  },
  {
   "cell_type": "code",
   "execution_count": 392,
   "metadata": {},
   "outputs": [],
   "source": [
    "forecast = m.predict(future)"
   ]
  },
  {
   "cell_type": "markdown",
   "metadata": {},
   "source": [
    "Here, yhat is the actual prediction and facebook prophet even gives an upper and low range"
   ]
  },
  {
   "cell_type": "code",
   "execution_count": 393,
   "metadata": {},
   "outputs": [
    {
     "data": {
      "text/html": [
       "<div>\n",
       "<style scoped>\n",
       "    .dataframe tbody tr th:only-of-type {\n",
       "        vertical-align: middle;\n",
       "    }\n",
       "\n",
       "    .dataframe tbody tr th {\n",
       "        vertical-align: top;\n",
       "    }\n",
       "\n",
       "    .dataframe thead th {\n",
       "        text-align: right;\n",
       "    }\n",
       "</style>\n",
       "<table border=\"1\" class=\"dataframe\">\n",
       "  <thead>\n",
       "    <tr style=\"text-align: right;\">\n",
       "      <th></th>\n",
       "      <th>ds</th>\n",
       "      <th>trend</th>\n",
       "      <th>yhat_lower</th>\n",
       "      <th>yhat_upper</th>\n",
       "      <th>trend_lower</th>\n",
       "      <th>trend_upper</th>\n",
       "      <th>additive_terms</th>\n",
       "      <th>additive_terms_lower</th>\n",
       "      <th>additive_terms_upper</th>\n",
       "      <th>weekly</th>\n",
       "      <th>weekly_lower</th>\n",
       "      <th>weekly_upper</th>\n",
       "      <th>yearly</th>\n",
       "      <th>yearly_lower</th>\n",
       "      <th>yearly_upper</th>\n",
       "      <th>multiplicative_terms</th>\n",
       "      <th>multiplicative_terms_lower</th>\n",
       "      <th>multiplicative_terms_upper</th>\n",
       "      <th>yhat</th>\n",
       "    </tr>\n",
       "  </thead>\n",
       "  <tbody>\n",
       "    <tr>\n",
       "      <td>0</td>\n",
       "      <td>2020-01-22</td>\n",
       "      <td>-237801.911639</td>\n",
       "      <td>-3740.672057</td>\n",
       "      <td>866.353683</td>\n",
       "      <td>-237801.911639</td>\n",
       "      <td>-237801.911639</td>\n",
       "      <td>236296.740960</td>\n",
       "      <td>236296.740960</td>\n",
       "      <td>236296.740960</td>\n",
       "      <td>-2252.611923</td>\n",
       "      <td>-2252.611923</td>\n",
       "      <td>-2252.611923</td>\n",
       "      <td>238549.352883</td>\n",
       "      <td>238549.352883</td>\n",
       "      <td>238549.352883</td>\n",
       "      <td>0.0</td>\n",
       "      <td>0.0</td>\n",
       "      <td>0.0</td>\n",
       "      <td>-1505.170679</td>\n",
       "    </tr>\n",
       "    <tr>\n",
       "      <td>1</td>\n",
       "      <td>2020-01-23</td>\n",
       "      <td>-220713.882290</td>\n",
       "      <td>-2408.819714</td>\n",
       "      <td>2214.296863</td>\n",
       "      <td>-220713.882290</td>\n",
       "      <td>-220713.882290</td>\n",
       "      <td>220544.466369</td>\n",
       "      <td>220544.466369</td>\n",
       "      <td>220544.466369</td>\n",
       "      <td>-632.839661</td>\n",
       "      <td>-632.839661</td>\n",
       "      <td>-632.839661</td>\n",
       "      <td>221177.306030</td>\n",
       "      <td>221177.306030</td>\n",
       "      <td>221177.306030</td>\n",
       "      <td>0.0</td>\n",
       "      <td>0.0</td>\n",
       "      <td>0.0</td>\n",
       "      <td>-169.415921</td>\n",
       "    </tr>\n",
       "    <tr>\n",
       "      <td>2</td>\n",
       "      <td>2020-01-24</td>\n",
       "      <td>-203625.852941</td>\n",
       "      <td>-436.841747</td>\n",
       "      <td>4013.252724</td>\n",
       "      <td>-203625.852941</td>\n",
       "      <td>-203625.852941</td>\n",
       "      <td>205428.692089</td>\n",
       "      <td>205428.692089</td>\n",
       "      <td>205428.692089</td>\n",
       "      <td>1654.521015</td>\n",
       "      <td>1654.521015</td>\n",
       "      <td>1654.521015</td>\n",
       "      <td>203774.171074</td>\n",
       "      <td>203774.171074</td>\n",
       "      <td>203774.171074</td>\n",
       "      <td>0.0</td>\n",
       "      <td>0.0</td>\n",
       "      <td>0.0</td>\n",
       "      <td>1802.839147</td>\n",
       "    </tr>\n",
       "    <tr>\n",
       "      <td>3</td>\n",
       "      <td>2020-01-25</td>\n",
       "      <td>-186537.823593</td>\n",
       "      <td>451.435108</td>\n",
       "      <td>4992.712873</td>\n",
       "      <td>-186537.823593</td>\n",
       "      <td>-186537.823593</td>\n",
       "      <td>189131.621461</td>\n",
       "      <td>189131.621461</td>\n",
       "      <td>189131.621461</td>\n",
       "      <td>2719.505532</td>\n",
       "      <td>2719.505532</td>\n",
       "      <td>2719.505532</td>\n",
       "      <td>186412.115929</td>\n",
       "      <td>186412.115929</td>\n",
       "      <td>186412.115929</td>\n",
       "      <td>0.0</td>\n",
       "      <td>0.0</td>\n",
       "      <td>0.0</td>\n",
       "      <td>2593.797868</td>\n",
       "    </tr>\n",
       "    <tr>\n",
       "      <td>4</td>\n",
       "      <td>2020-01-26</td>\n",
       "      <td>-169449.794244</td>\n",
       "      <td>-1397.597644</td>\n",
       "      <td>3056.609918</td>\n",
       "      <td>-169449.794244</td>\n",
       "      <td>-169449.794244</td>\n",
       "      <td>170329.242219</td>\n",
       "      <td>170329.242219</td>\n",
       "      <td>170329.242219</td>\n",
       "      <td>1191.948107</td>\n",
       "      <td>1191.948107</td>\n",
       "      <td>1191.948107</td>\n",
       "      <td>169137.294112</td>\n",
       "      <td>169137.294112</td>\n",
       "      <td>169137.294112</td>\n",
       "      <td>0.0</td>\n",
       "      <td>0.0</td>\n",
       "      <td>0.0</td>\n",
       "      <td>879.447975</td>\n",
       "    </tr>\n",
       "  </tbody>\n",
       "</table>\n",
       "</div>"
      ],
      "text/plain": [
       "          ds          trend   yhat_lower   yhat_upper    trend_lower  \\\n",
       "0 2020-01-22 -237801.911639 -3740.672057   866.353683 -237801.911639   \n",
       "1 2020-01-23 -220713.882290 -2408.819714  2214.296863 -220713.882290   \n",
       "2 2020-01-24 -203625.852941  -436.841747  4013.252724 -203625.852941   \n",
       "3 2020-01-25 -186537.823593   451.435108  4992.712873 -186537.823593   \n",
       "4 2020-01-26 -169449.794244 -1397.597644  3056.609918 -169449.794244   \n",
       "\n",
       "     trend_upper  additive_terms  additive_terms_lower  additive_terms_upper  \\\n",
       "0 -237801.911639   236296.740960         236296.740960         236296.740960   \n",
       "1 -220713.882290   220544.466369         220544.466369         220544.466369   \n",
       "2 -203625.852941   205428.692089         205428.692089         205428.692089   \n",
       "3 -186537.823593   189131.621461         189131.621461         189131.621461   \n",
       "4 -169449.794244   170329.242219         170329.242219         170329.242219   \n",
       "\n",
       "        weekly  weekly_lower  weekly_upper         yearly   yearly_lower  \\\n",
       "0 -2252.611923  -2252.611923  -2252.611923  238549.352883  238549.352883   \n",
       "1  -632.839661   -632.839661   -632.839661  221177.306030  221177.306030   \n",
       "2  1654.521015   1654.521015   1654.521015  203774.171074  203774.171074   \n",
       "3  2719.505532   2719.505532   2719.505532  186412.115929  186412.115929   \n",
       "4  1191.948107   1191.948107   1191.948107  169137.294112  169137.294112   \n",
       "\n",
       "    yearly_upper  multiplicative_terms  multiplicative_terms_lower  \\\n",
       "0  238549.352883                   0.0                         0.0   \n",
       "1  221177.306030                   0.0                         0.0   \n",
       "2  203774.171074                   0.0                         0.0   \n",
       "3  186412.115929                   0.0                         0.0   \n",
       "4  169137.294112                   0.0                         0.0   \n",
       "\n",
       "   multiplicative_terms_upper         yhat  \n",
       "0                         0.0 -1505.170679  \n",
       "1                         0.0  -169.415921  \n",
       "2                         0.0  1802.839147  \n",
       "3                         0.0  2593.797868  \n",
       "4                         0.0   879.447975  "
      ]
     },
     "execution_count": 393,
     "metadata": {},
     "output_type": "execute_result"
    }
   ],
   "source": [
    "forecast.head()"
   ]
  },
  {
   "cell_type": "code",
   "execution_count": 394,
   "metadata": {},
   "outputs": [
    {
     "data": {
      "image/png": "[encoded data removed]",
      "text/plain": [
       "<Figure size 720x432 with 1 Axes>"
      ]
     },
     "metadata": {},
     "output_type": "display_data"
    }
   ],
   "source": [
    "#future predictions\n",
    "m.plot(forecast);"
   ]
  },
  {
   "cell_type": "markdown",
   "metadata": {},
   "source": [
    "## Takeaways from Prediction Plot\n",
    "- We can see that the model is fairly accurate, with the black dots representing the actual data points and the blue line representing prophet's predictions, and the blue shaded part being the confidence interval.\n",
    "- The model predicts that COVID-19 confirmed cases will still be rising at the same rate it has been for the past few months up until mid July.\n",
    "- It then predicts a **flattening** of the curve around after mid july. This could possible be due to some states with a lot of cases flattening their curves, which would affect the overall US cases curve.\n",
    "- Because there is a strong correlation between cases and deaths, we can in turn expect deaths to flatten as well if the cases flatten."
   ]
  },
  {
   "cell_type": "code",
   "execution_count": 395,
   "metadata": {},
   "outputs": [
    {
     "data": {
      "image/png": "[encoded data removed]",
      "text/plain": [
       "<Figure size 648x648 with 3 Axes>"
      ]
     },
     "metadata": {},
     "output_type": "display_data"
    }
   ],
   "source": [
    "#plots individual components\n",
    "m.plot_components(forecast);"
   ]
  },
  {
   "cell_type": "markdown",
   "metadata": {},
   "source": [
    "## Takeaway from Plot Components\n",
    "- Prophet has an amazing ability to break down a time series into sub components.\n",
    "- We can see that the trend is that cases will continue to rise.\n",
    "- Weekly wise, we can see that there are a lot of new cases around the **weekend**, specifically Friday and Saturday. This could be due to a variety of factors. For example, people could be going out to social events more around the weekend which may lead to an increase in cases.\n",
    "- The yearly component implies that during the summer, there is an increase/outbreak of cases"
   ]
  },
  {
   "cell_type": "markdown",
   "metadata": {},
   "source": [
    "***"
   ]
  }
 ],
 "metadata": {
  "kernelspec": {
   "display_name": "Python 3",
   "language": "python",
   "name": "python3"
  },
  "language_info": {
   "codemirror_mode": {
    "name": "ipython",
    "version": 3
   },
   "file_extension": ".py",
   "mimetype": "text/x-python",
   "name": "python",
   "nbconvert_exporter": "python",
   "pygments_lexer": "ipython3",
   "version": "3.7.4"
  }
 },
 "nbformat": 4,
 "nbformat_minor": 2
}
